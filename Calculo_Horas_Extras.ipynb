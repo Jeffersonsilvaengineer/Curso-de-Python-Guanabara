{
  "nbformat": 4,
  "nbformat_minor": 0,
  "metadata": {
    "colab": {
      "provenance": [],
      "authorship_tag": "ABX9TyPwoBtP+4dg8Is6e3wPsCtv",
      "include_colab_link": true
    },
    "kernelspec": {
      "name": "python3",
      "display_name": "Python 3"
    },
    "language_info": {
      "name": "python"
    }
  },
  "cells": [
    {
      "cell_type": "markdown",
      "metadata": {
        "id": "view-in-github",
        "colab_type": "text"
      },
      "source": [
        "<a href=\"https://colab.research.google.com/github/Jeffersonsilvaengineer/Curso-de-Python-Guanabara/blob/master/Calculo_Horas_Extras.ipynb\" target=\"_parent\"><img src=\"https://colab.research.google.com/assets/colab-badge.svg\" alt=\"Open In Colab\"/></a>"
      ]
    },
    {
      "cell_type": "code",
      "execution_count": 24,
      "metadata": {
        "colab": {
          "base_uri": "https://localhost:8080/"
        },
        "id": "b7wkXgqCcp2b",
        "outputId": "d5a49e7d-7907-4375-ba14-ece75ae3573c"
      },
      "outputs": [
        {
          "output_type": "stream",
          "name": "stdout",
          "text": [
            "Qual o salário: 2572\n",
            "Quantidade de horas trabalhada: 9\n",
            "Olá, seu salário é R$ 2572.0.\n",
            "O valor de sua hora 70% é R$ 19.87\n",
            "Nesta simulação você trabalhou 9.0 horas\n",
            "O valor sem o adcional do descanço semanal remunerado é R$ 178.87\n",
            "O seu DSR é R$ 35.77\n",
            "O valor total a receber é R$ 214.65\n"
          ]
        }
      ],
      "source": [
        "sal = float(input(\"Qual o salário: \"))\n",
        "carga_horaria_mensal = 220\n",
        "valor_hora = sal/carga_horaria_mensal\n",
        "hora_70 = valor_hora + ( valor_hora * 0.7)\n",
        "horas_trabalhada = float(input(\"Quantidade de horas trabalhada: \"))\n",
        "a_receber = horas_trabalhada * hora_70\n",
        "dsr = a_receber * 0.2\n",
        "total = a_receber + dsr\n",
        "\n",
        "print(f\"Olá, seu salário é R$ {sal}.\")\n",
        "print(f\"O valor de sua hora 70% é R$ {hora_70:.2f}\")\n",
        "print(f\"Nesta simulação você trabalhou {horas_trabalhada} horas\")\n",
        "print(f\"O valor sem o adcional do descanço semanal remunerado é R$ {a_receber:.2f}\")\n",
        "print(f\"O seu DSR é R$ {dsr:.2f}\")\n",
        "print(f\"O valor total a receber é R$ {total:.2f}\")\n"
      ]
    }
  ]
}